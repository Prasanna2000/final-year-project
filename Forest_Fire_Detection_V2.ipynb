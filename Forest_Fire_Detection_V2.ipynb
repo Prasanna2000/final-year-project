{
  "nbformat": 4,
  "nbformat_minor": 0,
  "metadata": {
    "colab": {
      "name": "Forest Fire Detection V2.ipynb",
      "provenance": [],
      "collapsed_sections": [],
      "mount_file_id": "11QyYwdT15iGbReWN6jp2zUg1lePxFwxI",
      "authorship_tag": "ABX9TyM5b8PsQUvF1Z1P20h1wYnq",
      "include_colab_link": true
    },
    "kernelspec": {
      "name": "python3",
      "display_name": "Python 3"
    },
    "language_info": {
      "name": "python"
    },
    "accelerator": "GPU"
  },
  "cells": [
    {
      "cell_type": "markdown",
      "metadata": {
        "id": "view-in-github",
        "colab_type": "text"
      },
      "source": [
        "<a href=\"https://colab.research.google.com/github/Prasanna2000/final-year-project/blob/main/Forest_Fire_Detection_V2.ipynb\" target=\"_parent\"><img src=\"https://colab.research.google.com/assets/colab-badge.svg\" alt=\"Open In Colab\"/></a>"
      ]
    },
    {
      "cell_type": "code",
      "source": [
        "!unzip \"/content/drive/MyDrive/Project/project-dataset-forest-fire.zip\" -d \"/content/data\""
      ],
      "metadata": {
        "id": "JM7vjwl3XdHn"
      },
      "execution_count": null,
      "outputs": []
    },
    {
      "cell_type": "code",
      "source": [
        "import cv2\n",
        "import os\n",
        "import numpy as np\n",
        "import matplotlib.pyplot as plt\n",
        "\n",
        "train_data = []\n",
        "train_labels = []\n",
        "\n",
        "test_data = []\n",
        "test_labels = []\n",
        "\n",
        "img_ht = 192\n",
        "img_wt = 192\n",
        "train_dir = \"/content/data/Data/Train_Data\"\n",
        "test_dir = \"/content/data/Data/Test_Data\"\n",
        "\n",
        "for cls in [\"Fire\", \"Non_Fire\"]:\n",
        "  for img in os.listdir(train_dir + \"/\" + cls):\n",
        "    image = cv2.imread(train_dir + \"/\" + cls + \"/\" + img)\n",
        "    if image is not None:\n",
        "      image = cv2.resize(image, (img_ht, img_wt))\n",
        "      train_data.append(image)\n",
        "      train_labels.append(0 if cls==\"Fire\" else 1)\n",
        "\n",
        "train_dir = \"/content/data/Data/Train_Data\"\n",
        "for cls in [\"Fire\", \"Non_Fire\"]:\n",
        "  for img in os.listdir(test_dir + \"/\" + cls):\n",
        "    image = cv2.imread(test_dir + \"/\" + cls + \"/\" + img)\n",
        "    if image is not None:\n",
        "      image = cv2.resize(image, (img_ht, img_wt))\n",
        "      test_data.append(image)\n",
        "      test_labels.append(0 if cls==\"Fire\" else 1)\n",
        "\n",
        "print(len(train_data), len(train_labels))\n",
        "print(len(test_data), len(test_labels))\n",
        "\n",
        "train_data = np.array(train_data)\n",
        "train_labels = np.array(train_labels)\n",
        "\n",
        "test_data = np.array(test_data)\n",
        "test_labels = np.array(test_labels)"
      ],
      "metadata": {
        "colab": {
          "base_uri": "https://localhost:8080/"
        },
        "id": "VOIMDqB4zUY1",
        "outputId": "1aeda4c7-8b43-4de4-d0c3-034f3a2fe7c9"
      },
      "execution_count": null,
      "outputs": [
        {
          "output_type": "stream",
          "name": "stdout",
          "text": [
            "4609 4609\n",
            "50 50\n"
          ]
        }
      ]
    },
    {
      "cell_type": "markdown",
      "source": [
        "#Project"
      ],
      "metadata": {
        "id": "JvCM8oFszC1B"
      }
    },
    {
      "cell_type": "code",
      "source": [
        "import tensorflow as tf\n",
        "from tensorflow.keras.layers import Flatten, Dense, Activation"
      ],
      "metadata": {
        "id": "rJFHp9x7ZiUE"
      },
      "execution_count": null,
      "outputs": []
    },
    {
      "cell_type": "code",
      "source": [
        "data_dir = \"/content/data/Data/\"\n",
        "train_dir = data_dir+\"Train_Data/\"\n",
        "test_dir = data_dir+\"Test_Data/\"\n",
        "\n",
        "img_height = 192\n",
        "img_width = 192\n",
        "batch_size = 64"
      ],
      "metadata": {
        "id": "egLk_ohOd44k"
      },
      "execution_count": null,
      "outputs": []
    },
    {
      "cell_type": "code",
      "source": [
        "# train_datagen = tf.keras.preprocessing.image.ImageDataGenerator(validation_split=0.2)\n",
        "# test_datagen = tf.keras.preprocessing.image.ImageDataGenerator()\n",
        "# train_ds = train_datagen.flow_from_directory(\n",
        "#     train_dir,\n",
        "#     target_size=(img_height, img_width),\n",
        "#     batch_size=batch_size,\n",
        "#     class_mode='binary',\n",
        "#     subset='training')\n",
        "\n",
        "# val_ds = train_datagen.flow_from_directory(\n",
        "#     train_dir,\n",
        "#     target_size=(img_height, img_width),\n",
        "#     batch_size=batch_size,\n",
        "#     class_mode='binary',\n",
        "#     subset='validation')\n",
        "\n",
        "# test_ds = test_datagen.flow_from_directory(\n",
        "#     test_dir,\n",
        "#     target_size=(img_height, img_width),\n",
        "#     batch_size=batch_size,\n",
        "#     class_mode='binary'\n",
        "# )"
      ],
      "metadata": {
        "colab": {
          "base_uri": "https://localhost:8080/"
        },
        "id": "XHpP74E2cfHA",
        "outputId": "87a10d65-355d-4af2-865d-6a6154e6741b"
      },
      "execution_count": null,
      "outputs": [
        {
          "output_type": "stream",
          "name": "stdout",
          "text": [
            "Found 4000 images belonging to 2 classes.\n",
            "Found 1000 images belonging to 2 classes.\n",
            "Found 50 images belonging to 2 classes.\n"
          ]
        }
      ]
    },
    {
      "cell_type": "code",
      "source": [
        "mobilenet = tf.keras.applications.MobileNetV2(weights=\"imagenet\", input_shape=(img_width,img_height,3), include_top=False)\n",
        "\n",
        "mobilenet.trainable = False\n",
        "\n",
        "model = tf.keras.Sequential([\n",
        "        mobilenet,\n",
        "        Flatten(),\n",
        "        Dense(512, kernel_regularizer=\"l1\"),\n",
        "        Dense(256, kernel_regularizer=\"l1\"),\n",
        "        Dense(128, kernel_regularizer=\"l1\"),\n",
        "        Dense(1, kernel_regularizer=\"l1\"),\n",
        "        Activation(\"sigmoid\")\n",
        "])\n",
        "\n",
        "model.compile(optimizer='adam',\n",
        "             loss='binary_crossentropy',\n",
        "             metrics=['accuracy'])\n",
        "\n",
        "print(mobilenet.summary())\n",
        "print(model.summary())"
      ],
      "metadata": {
        "id": "bO5C8sWRe_d_"
      },
      "execution_count": null,
      "outputs": []
    },
    {
      "cell_type": "code",
      "source": [
        "history = model.fit(train_data, train_labels, validation_split = 0.2, epochs=20)"
      ],
      "metadata": {
        "colab": {
          "base_uri": "https://localhost:8080/"
        },
        "id": "sPkXQJ2XfdGW",
        "outputId": "4dab05ad-4603-4eec-9066-a7db1464f375"
      },
      "execution_count": null,
      "outputs": [
        {
          "output_type": "stream",
          "name": "stdout",
          "text": [
            "Epoch 1/20\n",
            "116/116 [==============================] - 26s 109ms/step - loss: 187.3994 - accuracy: 0.7811 - val_loss: 72.3474 - val_accuracy: 0.9675\n",
            "Epoch 2/20\n",
            "116/116 [==============================] - 11s 94ms/step - loss: 59.3480 - accuracy: 0.8402 - val_loss: 48.6362 - val_accuracy: 0.9371\n",
            "Epoch 3/20\n",
            "116/116 [==============================] - 11s 93ms/step - loss: 42.9547 - accuracy: 0.8706 - val_loss: 38.4069 - val_accuracy: 0.8677\n",
            "Epoch 4/20\n",
            "116/116 [==============================] - 11s 93ms/step - loss: 35.0996 - accuracy: 0.8801 - val_loss: 32.4311 - val_accuracy: 0.8839\n",
            "Epoch 5/20\n",
            "116/116 [==============================] - 11s 94ms/step - loss: 30.9692 - accuracy: 0.8940 - val_loss: 29.6092 - val_accuracy: 0.9349\n",
            "Epoch 6/20\n",
            "116/116 [==============================] - 11s 94ms/step - loss: 28.7270 - accuracy: 0.8940 - val_loss: 28.5380 - val_accuracy: 0.5716\n",
            "Epoch 7/20\n",
            "116/116 [==============================] - 11s 93ms/step - loss: 27.5347 - accuracy: 0.8850 - val_loss: 26.9768 - val_accuracy: 0.8525\n",
            "Epoch 8/20\n",
            "116/116 [==============================] - 11s 93ms/step - loss: 26.8801 - accuracy: 0.8891 - val_loss: 26.6681 - val_accuracy: 0.9403\n",
            "Epoch 9/20\n",
            "116/116 [==============================] - 11s 93ms/step - loss: 26.5837 - accuracy: 0.8912 - val_loss: 26.5679 - val_accuracy: 0.9284\n",
            "Epoch 10/20\n",
            "116/116 [==============================] - 11s 93ms/step - loss: 26.4510 - accuracy: 0.8847 - val_loss: 26.4127 - val_accuracy: 0.7939\n",
            "Epoch 11/20\n",
            "116/116 [==============================] - 11s 94ms/step - loss: 26.3697 - accuracy: 0.8872 - val_loss: 26.1730 - val_accuracy: 0.9946\n",
            "Epoch 12/20\n",
            "116/116 [==============================] - 11s 94ms/step - loss: 26.3877 - accuracy: 0.8747 - val_loss: 26.6453 - val_accuracy: 0.7343\n",
            "Epoch 13/20\n",
            "116/116 [==============================] - 11s 93ms/step - loss: 26.3615 - accuracy: 0.8771 - val_loss: 26.6157 - val_accuracy: 0.6746\n",
            "Epoch 14/20\n",
            "116/116 [==============================] - 11s 94ms/step - loss: 26.3346 - accuracy: 0.8853 - val_loss: 26.1864 - val_accuracy: 0.9751\n",
            "Epoch 15/20\n",
            "116/116 [==============================] - 11s 94ms/step - loss: 26.3423 - accuracy: 0.8790 - val_loss: 26.2493 - val_accuracy: 0.9707\n",
            "Epoch 16/20\n",
            "116/116 [==============================] - 11s 93ms/step - loss: 26.3140 - accuracy: 0.8904 - val_loss: 26.2627 - val_accuracy: 0.8525\n",
            "Epoch 17/20\n",
            "116/116 [==============================] - 11s 93ms/step - loss: 26.3024 - accuracy: 0.8991 - val_loss: 26.3152 - val_accuracy: 0.9208\n",
            "Epoch 18/20\n",
            "116/116 [==============================] - 11s 93ms/step - loss: 26.3359 - accuracy: 0.8923 - val_loss: 26.2857 - val_accuracy: 0.9360\n",
            "Epoch 19/20\n",
            "116/116 [==============================] - 11s 93ms/step - loss: 26.3285 - accuracy: 0.8921 - val_loss: 26.1952 - val_accuracy: 0.8633\n",
            "Epoch 20/20\n",
            "116/116 [==============================] - 11s 93ms/step - loss: 26.3630 - accuracy: 0.8782 - val_loss: 26.3415 - val_accuracy: 0.9208\n"
          ]
        }
      ]
    },
    {
      "cell_type": "code",
      "source": [
        "import itertools\n",
        "def plot_confusion_matrix(cm, classes,\n",
        "                          normalize=False,\n",
        "                          title='Confusion matrix',\n",
        "                          cmap=plt.cm.Blues):\n",
        "    \"\"\"\n",
        "    This function prints and plots the confusion matrix.\n",
        "    Normalization can be applied by setting `normalize=True`.\n",
        "    \"\"\"\n",
        "    plt.imshow(cm, interpolation='nearest', cmap=cmap)\n",
        "    plt.title(title)\n",
        "    plt.colorbar()\n",
        "    tick_marks = np.arange(len(classes))\n",
        "    plt.xticks(tick_marks, classes, rotation=45)\n",
        "    plt.yticks(tick_marks, classes)\n",
        "\n",
        "    if normalize:\n",
        "        cm = cm.astype('float') / cm.sum(axis=1)[:, np.newaxis]\n",
        "        print(\"Normalized confusion matrix\")\n",
        "    else:\n",
        "        print('Confusion matrix, without normalization')\n",
        "\n",
        "    print(cm)\n",
        "\n",
        "    thresh = cm.max() / 2.\n",
        "    for i, j in itertools.product(range(cm.shape[0]), range(cm.shape[1])):\n",
        "        plt.text(j, i, cm[i, j],\n",
        "            horizontalalignment=\"center\",\n",
        "            color=\"white\" if cm[i, j] > thresh else \"black\")\n",
        "\n",
        "    plt.tight_layout()\n",
        "    plt.ylabel('True label')\n",
        "    plt.xlabel('Predicted label')"
      ],
      "metadata": {
        "id": "11AvJub4ekj8"
      },
      "execution_count": null,
      "outputs": []
    },
    {
      "cell_type": "code",
      "source": [
        "from PIL import Image\n",
        "from sklearn.metrics import classification_report, confusion_matrix\n",
        "\n",
        "raw_pred = model.predict(test_data)\n",
        "y_pred = []\n",
        "\n",
        "for i in raw_pred:\n",
        "  y_pred.append(0 if i<0.5 else 1)\n",
        "\n",
        "print(classification_report(test_labels, y_pred))\n",
        "# print(y_pred, len(y_pred))\n",
        "# print(\"\\n\\n\\n\\n\")\n",
        "# print(test_labels, test_labels.shape)\n",
        "conf_mat = confusion_matrix(test_labels, y_pred)\n",
        "plot_confusion_matrix(conf_mat, classes=[\"Fire\", \"Non_Fire\"])"
      ],
      "metadata": {
        "id": "k4UkBR4Ro_Vj",
        "colab": {
          "base_uri": "https://localhost:8080/",
          "height": 515
        },
        "outputId": "dc84bb6b-4f56-43d3-eb70-bfe7ae96bd4d"
      },
      "execution_count": null,
      "outputs": [
        {
          "output_type": "stream",
          "name": "stdout",
          "text": [
            "              precision    recall  f1-score   support\n",
            "\n",
            "           0       0.86      0.72      0.78        25\n",
            "           1       0.76      0.88      0.81        25\n",
            "\n",
            "    accuracy                           0.80        50\n",
            "   macro avg       0.81      0.80      0.80        50\n",
            "weighted avg       0.81      0.80      0.80        50\n",
            "\n",
            "Confusion matrix, without normalization\n",
            "[[18  7]\n",
            " [ 3 22]]\n"
          ]
        },
        {
          "output_type": "display_data",
          "data": {
            "text/plain": [
              "<Figure size 432x288 with 2 Axes>"
            ],
            "image/png": "[encoded data removed]"
          },
          "metadata": {
            "needs_background": "light"
          }
        }
      ]
    },
    {
      "cell_type": "code",
      "source": [
        "model.evaluate(test_data, test_labels)"
      ],
      "metadata": {
        "colab": {
          "base_uri": "https://localhost:8080/"
        },
        "id": "mVN706bWeoTA",
        "outputId": "52a4197f-cef5-4730-b5e2-7c9e0940bce8"
      },
      "execution_count": null,
      "outputs": [
        {
          "output_type": "stream",
          "name": "stdout",
          "text": [
            "2/2 [==============================] - 0s 75ms/step - loss: 26.6174 - accuracy: 0.8000\n"
          ]
        },
        {
          "output_type": "execute_result",
          "data": {
            "text/plain": [
              "[26.617353439331055, 0.800000011920929]"
            ]
          },
          "metadata": {},
          "execution_count": 28
        }
      ]
    },
    {
      "cell_type": "code",
      "source": [
        "model.save(\"/content/drive/MyDrive/Project/Model_Train87_Val92_Test80\")"
      ],
      "metadata": {
        "colab": {
          "base_uri": "https://localhost:8080/"
        },
        "id": "ZxVcr1pKhUBp",
        "outputId": "59b269a6-114e-4f20-c539-389981753fc1"
      },
      "execution_count": null,
      "outputs": [
        {
          "output_type": "stream",
          "name": "stderr",
          "text": [
            "WARNING:absl:Function `_wrapped_model` contains input name(s) mobilenetv2_1.00_192_input with unsupported characters which will be renamed to mobilenetv2_1_00_192_input in the SavedModel.\n"
          ]
        },
        {
          "output_type": "stream",
          "name": "stdout",
          "text": [
            "INFO:tensorflow:Assets written to: /content/drive/MyDrive/Project/Model_Train87_Val92_Test80/assets\n"
          ]
        },
        {
          "output_type": "stream",
          "name": "stderr",
          "text": [
            "INFO:tensorflow:Assets written to: /content/drive/MyDrive/Project/Model_Train87_Val92_Test80/assets\n"
          ]
        }
      ]
    },
    {
      "cell_type": "code",
      "source": [
        ""
      ],
      "metadata": {
        "id": "VVA7cGxAh4S1"
      },
      "execution_count": null,
      "outputs": []
    }
  ]
}